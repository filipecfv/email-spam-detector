{
 "cells": [
  {
   "cell_type": "markdown",
   "id": "bc728bed-c00b-4a93-9bdd-5b748d9153b2",
   "metadata": {},
   "source": [
    "# Random Forest"
   ]
  },
  {
   "cell_type": "code",
   "execution_count": 2,
   "id": "b771c43e-8009-45ae-a03e-33ca59d8416c",
   "metadata": {
    "tags": []
   },
   "outputs": [],
   "source": [
    "import pandas as pd\n",
    "df = pd.read_csv('output/spam_email.csv')"
   ]
  },
  {
   "cell_type": "code",
   "execution_count": 3,
   "id": "e1af57bb-5f5a-49bb-91d0-3d3311d380e7",
   "metadata": {
    "tags": []
   },
   "outputs": [],
   "source": [
    "# spliting test and train samples\n",
    "from sklearn.model_selection import train_test_split\n",
    "\n",
    "df_predictors = df.drop('spam', axis = 1)\n",
    "df_predicted = df['spam']\n",
    "\n",
    "X_train, X_test, y_train, y_test = train_test_split(df_predictors,\n",
    "                                                    df_predicted,\n",
    "                                                    test_size = 0.5,\n",
    "                                                    random_state = 0)"
   ]
  },
  {
   "cell_type": "code",
   "execution_count": 21,
   "id": "a4b892af-9e7e-417b-8630-1b5f90c18094",
   "metadata": {
    "tags": []
   },
   "outputs": [
    {
     "name": "stdout",
     "output_type": "stream",
     "text": [
      "Number of mislabeled points out of a total 2301 points : 117 \n",
      "Model score: 94.92%\n"
     ]
    }
   ],
   "source": [
    "# Random forest model\n",
    "from sklearn.ensemble import RandomForestClassifier\n",
    "\n",
    "florest = RandomForestClassifier(n_estimators = 1000)\n",
    "florest.fit(X_train, y_train)\n",
    "\n",
    "# prediction score: \n",
    "fscore = florest.score(X_test, y_test)\n",
    "fy_pred = florest.predict(X_test)\n",
    "\n",
    "\n",
    "print(\"Number of mislabeled points out of a total %d points : %d \\n\\\n",
    "Model score:\"\n",
    "       % (X_test.shape[0], (y_test != fy_pred).sum()), \"{0:.2%}\".format(fscore))"
   ]
  }
 ],
 "metadata": {
  "kernelspec": {
   "display_name": "Python 3 (ipykernel)",
   "language": "python",
   "name": "python3"
  },
  "language_info": {
   "codemirror_mode": {
    "name": "ipython",
    "version": 3
   },
   "file_extension": ".py",
   "mimetype": "text/x-python",
   "name": "python",
   "nbconvert_exporter": "python",
   "pygments_lexer": "ipython3",
   "version": "3.10.6"
  }
 },
 "nbformat": 4,
 "nbformat_minor": 5
}
