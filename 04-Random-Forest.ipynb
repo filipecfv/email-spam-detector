{
 "cells": [
  {
   "cell_type": "markdown",
   "id": "bc728bed-c00b-4a93-9bdd-5b748d9153b2",
   "metadata": {},
   "source": [
    "# Random Forest\n",
    "Random Forest is an ensemble learning algorithm that builds multiple decision trees and combines their predictions to improve accuracy and reduce overfitting. It works by randomly selecting subsets of features and samples from the training data to train each tree, and then averaging their predictions to make the final prediction. \n",
    "\n",
    "Its advantages include handling regression and classification problems, reducing overfitting, handling high-dimensional datasets, and estimating feature importance. Its disadvantages, being slower and more computationally expensive, difficult to interpret, and may not perform well on imbalanced or noisy datasets."
   ]
  },
  {
   "cell_type": "code",
   "execution_count": 18,
   "id": "b771c43e-8009-45ae-a03e-33ca59d8416c",
   "metadata": {
    "tags": []
   },
   "outputs": [],
   "source": [
    "import pandas as pd\n",
    "import numpy as np\n",
    "df = pd.read_csv('output/spam_email.csv')"
   ]
  },
  {
   "cell_type": "code",
   "execution_count": 19,
   "id": "e1af57bb-5f5a-49bb-91d0-3d3311d380e7",
   "metadata": {
    "tags": []
   },
   "outputs": [],
   "source": [
    "# spliting test and train samples\n",
    "from sklearn.model_selection import train_test_split\n",
    "\n",
    "df_predictors = df.drop('spam', axis = 1)\n",
    "df_predicted = df['spam']\n",
    "\n",
    "X_train, X_test, y_train, y_test = train_test_split(df_predictors,\n",
    "                                                    df_predicted)"
   ]
  },
  {
   "cell_type": "code",
   "execution_count": 20,
   "id": "a4b892af-9e7e-417b-8630-1b5f90c18094",
   "metadata": {
    "tags": []
   },
   "outputs": [
    {
     "name": "stdout",
     "output_type": "stream",
     "text": [
      "Number of mislabeled points out of a total 1151 points : 45 \n",
      "Model score: 96.09%\n"
     ]
    }
   ],
   "source": [
    "# Random forest model\n",
    "np.random.seed(30)\n",
    "from sklearn.ensemble import RandomForestClassifier\n",
    "\n",
    "forest = RandomForestClassifier(n_estimators = 1000)\n",
    "forest.fit(X_train, y_train)\n",
    "\n",
    "# prediction score: \n",
    "fscore = forest.score(X_test, y_test)\n",
    "fy_pred = forest.predict(X_test)\n",
    "\n",
    "\n",
    "print(\"Number of mislabeled points out of a total %d points : %d \\n\\\n",
    "Model score:\"\n",
    "       % (X_test.shape[0], (y_test != fy_pred).sum()), \"{0:.2%}\".format(fscore))"
   ]
  },
  {
   "cell_type": "markdown",
   "id": "060c6837-876e-4758-9227-8763fa9d21d9",
   "metadata": {},
   "source": [
    "### K-Fold Cross Validation"
   ]
  },
  {
   "cell_type": "code",
   "execution_count": 21,
   "id": "812457d0-ff38-4cce-ac8e-03a4addfc3c3",
   "metadata": {
    "tags": []
   },
   "outputs": [
    {
     "name": "stdout",
     "output_type": "stream",
     "text": [
      "Scores: [0.95375723 0.9017341  0.94219653 0.94219653 0.94797688 0.94797688\n",
      " 0.94797688 0.93641618 0.9132948  0.95375723 0.94186047 0.96511628\n",
      " 0.96511628 0.94186047 0.95348837 0.95930233 0.94767442 0.95348837\n",
      " 0.94767442 0.97674419]\n",
      "\n",
      "Mean: 0.9469804409194786 (94.70%)\n",
      "\n",
      "Standard deviation: 0.01622926582656832 (1.62%)\n"
     ]
    }
   ],
   "source": [
    "from sklearn.model_selection import cross_val_score\n",
    "\n",
    "# we specify 20 folds, i.e, 20 train-test splits and fitted models. \n",
    "scores = cross_val_score(forest, X_train, y_train, \n",
    "                         cv = 20)\n",
    "\n",
    "def display_scores(scores):\n",
    "    print(\"Scores:\", scores)\n",
    "    print(\"\\nMean:\", scores.mean(), f\"({scores.mean():.2%})\")\n",
    "    print(\"\\nStandard deviation:\", scores.std(), f\"({scores.std():.2%})\")\n",
    "\n",
    "display_scores(scores)"
   ]
  },
  {
   "cell_type": "markdown",
   "id": "16d6c113-caf0-4a2b-ae9b-10d679739d31",
   "metadata": {},
   "source": [
    "### Repeated K-Fold Cross Validation"
   ]
  },
  {
   "cell_type": "code",
   "execution_count": 23,
   "id": "bd1b7192-dc52-4b5c-8a4f-8cc9ee058f80",
   "metadata": {
    "tags": []
   },
   "outputs": [
    {
     "name": "stdout",
     "output_type": "stream",
     "text": [
      "Scores: [0.92485549 0.95953757 0.95375723 0.93641618 0.93641618 0.93641618\n",
      " 0.96531792 0.95953757 0.94797688 0.94219653 0.93023256 0.94767442\n",
      " 0.93023256 0.95930233 0.95930233 0.94186047 0.94186047 0.95930233\n",
      " 0.94767442 0.97674419 0.94797688 0.94797688 0.95375723 0.9017341\n",
      " 0.94219653 0.97109827 0.95375723 0.94797688 0.92485549 0.94797688\n",
      " 0.93604651 0.94186047 0.96511628 0.94767442 0.94767442 0.94186047\n",
      " 0.97093023 0.95930233 0.95930233 0.97674419 0.93641618 0.95375723\n",
      " 0.95953757 0.94219653 0.94797688 0.95953757 0.94797688 0.93063584\n",
      " 0.96531792 0.96531792 0.96511628 0.9127907  0.93604651 0.95348837\n",
      " 0.96511628 0.94767442 0.95930233 0.93023256 0.95348837 0.93604651\n",
      " 0.97109827 0.94797688 0.93063584 0.93641618 0.95375723 0.97109827\n",
      " 0.94797688 0.91907514 0.93063584 0.95953757 0.94186047 0.95348837\n",
      " 0.93604651 0.95930233 0.94767442 0.93604651 0.94186047 0.96511628\n",
      " 0.94767442 0.94186047 0.90751445 0.94797688 0.95953757 0.95375723\n",
      " 0.93063584 0.95375723 0.93063584 0.95375723 0.97109827 0.96531792\n",
      " 0.9127907  0.94186047 0.95348837 0.93604651 0.94767442 0.95930233\n",
      " 0.96511628 0.95348837 0.95348837 0.95348837]\n",
      "\n",
      "Mean: 0.9480027557467401 (94.80%)\n",
      "\n",
      "Standard deviation: 0.014773892297841644 (1.48%)\n"
     ]
    }
   ],
   "source": [
    "from sklearn.model_selection import cross_val_score, RepeatedKFold\n",
    "cv = RepeatedKFold(n_splits=20, n_repeats=5, random_state=2)\n",
    "\n",
    "scores = cross_val_score(forest, X_train, y_train, cv=cv)\n",
    "\n",
    "display_scores(scores)"
   ]
  }
 ],
 "metadata": {
  "kernelspec": {
   "display_name": "Python 3 (ipykernel)",
   "language": "python",
   "name": "python3"
  },
  "language_info": {
   "codemirror_mode": {
    "name": "ipython",
    "version": 3
   },
   "file_extension": ".py",
   "mimetype": "text/x-python",
   "name": "python",
   "nbconvert_exporter": "python",
   "pygments_lexer": "ipython3",
   "version": "3.10.6"
  }
 },
 "nbformat": 4,
 "nbformat_minor": 5
}
