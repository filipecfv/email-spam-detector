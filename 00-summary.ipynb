{
 "cells": [
  {
   "cell_type": "markdown",
   "id": "b32ea5ea-59a3-4398-8a4d-1f76734c71a8",
   "metadata": {
    "jp-MarkdownHeadingCollapsed": true,
    "tags": []
   },
   "source": [
    "# Spam Detector - machine learning models to detect spam \n",
    "## summary\n",
    "\n",
    "Data set: \n",
    "\n",
    "- [Spambase Data Set](https://archive.ics.uci.edu/ml/datasets/spambase)\n",
    "\n",
    "---\n",
    "\n",
    "Machine Learning models used in this notebook: \n",
    "- [x] Logistic regression\n",
    "- [x] Naive Bayes\n",
    "    - [x] Gaussian Naive Bayes\n",
    "    - [x] Multinomia Naive Bayes\n",
    "    - [x] Bernoulli Naive Bayes\n",
    "- [ ] Support vector machines\n",
    "- [ ] Deep learning models like LSTM or CNN.\n",
    "\n",
    "--- \n",
    "### Results:\n",
    "\n",
    "| Model | Precision |\n",
    "|-------|:-----------:|\n",
    "| Logistic regression | 92.35% |\n",
    "| Naive Bayes| |\n",
    "| --- Gaussian | 83.09% |\n",
    "| --- Multinomia | 80.44%| \n",
    "| --- Bernoulli | 87.54 |\n",
    "| Support vector machines| |\n",
    "| Deep learning| |"
   ]
  }
 ],
 "metadata": {
  "kernelspec": {
   "display_name": "Python 3 (ipykernel)",
   "language": "python",
   "name": "python3"
  },
  "language_info": {
   "codemirror_mode": {
    "name": "ipython",
    "version": 3
   },
   "file_extension": ".py",
   "mimetype": "text/x-python",
   "name": "python",
   "nbconvert_exporter": "python",
   "pygments_lexer": "ipython3",
   "version": "3.10.6"
  }
 },
 "nbformat": 4,
 "nbformat_minor": 5
}
