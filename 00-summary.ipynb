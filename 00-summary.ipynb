{
 "cells": [
  {
   "cell_type": "markdown",
   "id": "b32ea5ea-59a3-4398-8a4d-1f76734c71a8",
   "metadata": {
    "tags": []
   },
   "source": [
    "# Spam Detector - machine learning models to detect spam \n",
    "## summary\n",
    "\n",
    "---\n",
    "Data set: [Spambase Data Set](https://archive.ics.uci.edu/ml/datasets/spambase)\n",
    "\n",
    "---\n",
    "### Objectives\n",
    "- Testing multiple machine learning models to detect whether a certain email is spam or not; \n",
    "- Validating each model to minimize randomness; \n",
    "\n",
    "---\n",
    "### Machine Learning models used in this notebook: \n",
    "- [x] Logistic regression\n",
    "- [x] Naive Bayes\n",
    "    - [x] Gaussian Naive Bayes\n",
    "    - [x] Multinomia Naive Bayes\n",
    "    - [x] Bernoulli Naive Bayes\n",
    "- [x] Random Forest\n",
    "\n",
    "--- \n",
    "### Results:\n",
    "\n",
    "| Model | Initial Precision | K-fold Cross Validation | Repeated K-fold |\n",
    "|-------|:-----------:|:-----------:|:-----------:|\n",
    "| Logistic regression | 93.43% | 92.55%| 92.83% |\n",
    "| Naive Bayes (Gaussian) | 81.84% | 81.77%| 81.67%|\n",
    "| Naive Bayes (Multinomia) | 78.80% | 79.24% | 79.26% |\n",
    "| Naive Bayes (Bernoulli) | 88.88% | 88.41% | 88.40% |\n",
    "| Random Forest | 96.09% | 94.70% |  94.80% |"
   ]
  },
  {
   "cell_type": "code",
   "execution_count": null,
   "id": "6e6e3134-5e1b-4fac-a888-9c1f9078f09f",
   "metadata": {},
   "outputs": [],
   "source": []
  }
 ],
 "metadata": {
  "kernelspec": {
   "display_name": "Python 3 (ipykernel)",
   "language": "python",
   "name": "python3"
  },
  "language_info": {
   "codemirror_mode": {
    "name": "ipython",
    "version": 3
   },
   "file_extension": ".py",
   "mimetype": "text/x-python",
   "name": "python",
   "nbconvert_exporter": "python",
   "pygments_lexer": "ipython3",
   "version": "3.10.6"
  }
 },
 "nbformat": 4,
 "nbformat_minor": 5
}
