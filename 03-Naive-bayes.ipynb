{
 "cells": [
  {
   "cell_type": "markdown",
   "id": "950a382d-b9c6-4a8d-b82f-c6175149c7ec",
   "metadata": {
    "tags": []
   },
   "source": [
    "# Naive Bayes\n",
    "\n",
    "The Naive Bayes model is a simple probabilistic algorithm that uses Bayes's theorem to make predictions. It assumes that the features in the data are independent of each other, hence the \"naive\" in its name. The model calculates the probability of a given input belonging to each possible class, and then chooses the class with the highest probability as the predicted output. It is commonly used for text classification and spam filtering, although it is considered a bad estimator. "
   ]
  },
  {
   "cell_type": "code",
   "execution_count": 58,
   "id": "2d830dd6-62af-446f-a113-cbd2d46c4afb",
   "metadata": {
    "tags": []
   },
   "outputs": [],
   "source": [
    "# import pandas and read the data\n",
    "import pandas as pd\n",
    "df = pd.read_csv('output/spam_email.csv')"
   ]
  },
  {
   "cell_type": "code",
   "execution_count": 59,
   "id": "ef8e43b8-6372-46c6-b138-077d1d2c4b3d",
   "metadata": {
    "tags": []
   },
   "outputs": [],
   "source": [
    "# spliting test and train samples\n",
    "from sklearn.model_selection import train_test_split\n",
    "\n",
    "df_predictors = df.drop('spam', axis = 1)\n",
    "df_predicted = df['spam']\n",
    "\n",
    "X_train, X_test, y_train, y_test = train_test_split(df_predictors,\n",
    "                                                    df_predicted)"
   ]
  },
  {
   "cell_type": "markdown",
   "id": "782658f8-e4d2-444a-bfe6-247a1f390ffa",
   "metadata": {},
   "source": [
    "# Gaussian Naive Bayes\n",
    "\n",
    "The Gaussian Naive Bayes model is a variant of the Naive Bayes algorithm that assumes the features in the data follow a Gaussian distribution. It calculates the probability of a given input belonging to each possible class using the Gaussian distribution to estimate the likelihood of each feature value for each class. The model then applies Bayes' theorem to compute the posterior probability of each class, and chooses the class with the highest probability as the predicted output."
   ]
  },
  {
   "cell_type": "code",
   "execution_count": 60,
   "id": "cee3230b-2609-4c96-839b-805e1abf6949",
   "metadata": {
    "tags": []
   },
   "outputs": [
    {
     "name": "stdout",
     "output_type": "stream",
     "text": [
      "Number of mislabeled points out of a total 1151 points : 209 \n",
      "Model score: 81.84%\n"
     ]
    }
   ],
   "source": [
    "from sklearn.naive_bayes import GaussianNB\n",
    "\n",
    "# Gaussian Naive Bayes model\n",
    "gnb = GaussianNB()\n",
    "gnb.fit(X_train, y_train)\n",
    "\n",
    "# prediction score: \n",
    "gy_pred = gnb.fit(X_train, y_train).predict(X_test)\n",
    "\n",
    "gscore = gnb.score(X_test, y_test)\n",
    "\n",
    "print(\"Number of mislabeled points out of a total %d points : %d \\n\\\n",
    "Model score:\"\n",
    "      % (X_test.shape[0], (y_test != gy_pred).sum()), \"{0:.2%}\".format(gscore))"
   ]
  },
  {
   "cell_type": "markdown",
   "id": "67b498dd-d6e2-4b83-9132-8b037a9b0a17",
   "metadata": {},
   "source": [
    "### K-Fold Cross Validation"
   ]
  },
  {
   "cell_type": "code",
   "execution_count": 61,
   "id": "f112f153-f1d9-46ac-b96c-f795f474e402",
   "metadata": {
    "tags": []
   },
   "outputs": [
    {
     "name": "stdout",
     "output_type": "stream",
     "text": [
      "Scores: [0.84393064 0.83236994 0.8150289  0.84971098 0.73988439 0.83815029\n",
      " 0.80924855 0.83815029 0.82080925 0.79768786 0.8372093  0.83139535\n",
      " 0.85465116 0.74418605 0.84302326 0.81976744 0.79651163 0.86046512\n",
      " 0.8255814  0.75581395]\n",
      "\n",
      "Mean: 0.8176787874714343 (81.77%)\n",
      "\n",
      "Standard deviation: 0.03425023203159151 (3.43%)\n"
     ]
    }
   ],
   "source": [
    "from sklearn.model_selection import cross_val_score\n",
    "\n",
    "# we specify 20 folds, i.e, 20 train-test splits and fitted models. \n",
    "scores = cross_val_score(gnb, X_train, y_train, \n",
    "                         cv = 20)\n",
    "\n",
    "def display_scores(scores):\n",
    "    print(\"Scores:\", scores)\n",
    "    print(\"\\nMean:\", scores.mean(), f\"({scores.mean():.2%})\")\n",
    "    print(\"\\nStandard deviation:\", scores.std(), f\"({scores.std():.2%})\")\n",
    "\n",
    "display_scores(scores)"
   ]
  },
  {
   "cell_type": "markdown",
   "id": "2c04a1c4-10ea-430a-ba30-7fe979ff0c00",
   "metadata": {},
   "source": [
    "### Repeated K-Fold Cross Validation\n",
    "\n",
    "Alternatively to what done in the Logistic Regreession, a simpler way to apply a Repeated k-Fold Cross Validation is through the cross_val_function, passing the RepeatedKFold function into its cv argument."
   ]
  },
  {
   "cell_type": "code",
   "execution_count": 62,
   "id": "559f8088-2710-4946-ae01-ffb713596c74",
   "metadata": {
    "tags": []
   },
   "outputs": [
    {
     "name": "stdout",
     "output_type": "stream",
     "text": [
      "Scores: [0.8150289  0.80346821 0.77456647 0.82080925 0.86127168 0.82080925\n",
      " 0.78034682 0.79190751 0.78034682 0.79768786 0.80813953 0.80232558\n",
      " 0.81976744 0.86046512 0.76744186 0.85465116 0.83139535 0.87209302\n",
      " 0.81976744 0.8372093  0.78034682 0.8150289  0.8150289  0.83815029\n",
      " 0.79768786 0.79190751 0.8150289  0.85549133 0.86127168 0.85549133\n",
      " 0.83139535 0.79651163 0.8255814  0.81395349 0.83139535 0.77325581\n",
      " 0.83139535 0.79069767 0.80813953 0.80813953 0.80924855 0.82080925\n",
      " 0.80924855 0.85549133 0.78034682 0.82080925 0.8265896  0.80346821\n",
      " 0.79190751 0.79768786 0.89534884 0.79069767 0.80232558 0.8255814\n",
      " 0.8372093  0.81976744 0.79651163 0.83139535 0.83139535 0.81395349\n",
      " 0.80924855 0.8150289  0.78034682 0.80346821 0.78612717 0.84393064\n",
      " 0.76878613 0.79768786 0.84971098 0.78034682 0.81976744 0.83139535\n",
      " 0.84883721 0.87209302 0.87209302 0.80813953 0.81395349 0.8255814\n",
      " 0.80813953 0.81976744 0.82080925 0.80346821 0.79768786 0.79190751\n",
      " 0.88439306 0.78034682 0.84393064 0.79768786 0.86705202 0.76300578\n",
      " 0.85465116 0.85465116 0.84302326 0.80232558 0.75       0.80813953\n",
      " 0.83139535 0.79069767 0.8255814  0.78488372]\n",
      "\n",
      "Mean: 0.8166527759107407 (81.67%)\n",
      "\n",
      "Standard deviation: 0.028539949075098697 (2.85%)\n"
     ]
    }
   ],
   "source": [
    "from sklearn.model_selection import cross_val_score, RepeatedKFold\n",
    "cv = RepeatedKFold(n_splits=20, n_repeats=5, random_state=2)\n",
    "\n",
    "scores = cross_val_score(gnb, X_train, y_train, cv=cv)\n",
    "\n",
    "display_scores(scores)"
   ]
  },
  {
   "cell_type": "markdown",
   "id": "99171b43-5143-4ddd-a3a3-d8398c7974ba",
   "metadata": {},
   "source": [
    "# Multinomia Naive Bayes"
   ]
  },
  {
   "cell_type": "code",
   "execution_count": 63,
   "id": "7444c130-9918-4d1e-b410-72a3250a8969",
   "metadata": {
    "tags": []
   },
   "outputs": [
    {
     "name": "stdout",
     "output_type": "stream",
     "text": [
      "Number of mislabeled points out of a total 1151 points : 244 \n",
      "Model score: 78.80%\n"
     ]
    }
   ],
   "source": [
    "from sklearn.naive_bayes import MultinomialNB\n",
    "\n",
    "# Multinomia Naive Bayes\n",
    "mnb = MultinomialNB()\n",
    "mnb.fit(X_train, y_train)\n",
    "\n",
    "# prediction score\n",
    "my_pred = mnb.fit(X_train, y_train).predict(X_test)\n",
    "mscore = mnb.score(X_test, y_test)\n",
    "\n",
    "print(\"Number of mislabeled points out of a total %d points : %d \\n\\\n",
    "Model score:\"\n",
    "      % (X_test.shape[0], (y_test != my_pred).sum()), \"{0:.2%}\".format(mscore))"
   ]
  },
  {
   "cell_type": "markdown",
   "id": "1a5aa6c1-abab-4ce4-a896-7c519ee32a65",
   "metadata": {},
   "source": [
    "### K-Fold Cross Validation"
   ]
  },
  {
   "cell_type": "code",
   "execution_count": 64,
   "id": "8a8a8acd-7140-4f68-b834-908dd0fd8dcf",
   "metadata": {
    "tags": []
   },
   "outputs": [
    {
     "name": "stdout",
     "output_type": "stream",
     "text": [
      "Scores: [0.82080925 0.83236994 0.76300578 0.77456647 0.80924855 0.84971098\n",
      " 0.83236994 0.80346821 0.76300578 0.77456647 0.78488372 0.80232558\n",
      " 0.77906977 0.79069767 0.80232558 0.78488372 0.76744186 0.79651163\n",
      " 0.79651163 0.72093023]\n",
      "\n",
      "Mean: 0.7924351391316037 (79.24%)\n",
      "\n",
      "Standard deviation: 0.028559196621270523 (2.86%)\n"
     ]
    }
   ],
   "source": [
    "from sklearn.model_selection import cross_val_score\n",
    "\n",
    "scores = cross_val_score(mnb, X_train, y_train, \n",
    "                         cv = 20)\n",
    "\n",
    "def display_scores(scores):\n",
    "    print(\"Scores:\", scores)\n",
    "    print(\"\\nMean:\", scores.mean(), f\"({scores.mean():.2%})\")\n",
    "    print(\"\\nStandard deviation:\", scores.std(), f\"({scores.std():.2%})\")\n",
    "\n",
    "display_scores(scores)"
   ]
  },
  {
   "cell_type": "markdown",
   "id": "8c9829c6-f7a2-432f-ae50-bf9937b7975d",
   "metadata": {},
   "source": [
    "### Repeated K-Fold Cross Validation"
   ]
  },
  {
   "cell_type": "code",
   "execution_count": 65,
   "id": "4a837073-9ad3-48c5-881e-b271678a7367",
   "metadata": {
    "tags": []
   },
   "outputs": [
    {
     "name": "stdout",
     "output_type": "stream",
     "text": [
      "Scores: [0.76878613 0.80346821 0.82080925 0.8265896  0.78034682 0.78612717\n",
      " 0.75144509 0.75722543 0.80924855 0.78034682 0.80232558 0.78488372\n",
      " 0.8255814  0.79651163 0.76744186 0.78488372 0.79069767 0.76162791\n",
      " 0.81976744 0.81976744 0.76878613 0.76878613 0.79768786 0.8265896\n",
      " 0.80924855 0.80924855 0.73988439 0.82080925 0.87283237 0.84393064\n",
      " 0.78488372 0.77906977 0.79651163 0.80813953 0.77325581 0.77325581\n",
      " 0.75581395 0.77325581 0.83139535 0.72674419 0.76300578 0.82080925\n",
      " 0.84393064 0.8150289  0.76878613 0.75722543 0.75722543 0.8265896\n",
      " 0.79768786 0.80346821 0.80813953 0.76162791 0.72674419 0.80813953\n",
      " 0.8372093  0.75581395 0.77906977 0.78488372 0.79069767 0.8255814\n",
      " 0.83236994 0.78612717 0.75144509 0.8150289  0.78034682 0.79190751\n",
      " 0.75722543 0.80346821 0.78034682 0.7283237  0.80232558 0.86046512\n",
      " 0.75581395 0.81976744 0.84302326 0.78488372 0.79651163 0.79069767\n",
      " 0.79069767 0.79651163 0.7283237  0.7283237  0.79190751 0.77456647\n",
      " 0.83236994 0.78034682 0.8150289  0.8150289  0.79768786 0.77456647\n",
      " 0.87209302 0.81395349 0.8372093  0.76162791 0.80813953 0.76744186\n",
      " 0.78488372 0.76744186 0.79069767 0.8255814 ]\n",
      "\n",
      "Mean: 0.7926418201371154 (79.26%)\n",
      "\n",
      "Standard deviation: 0.03125246349209213 (3.13%)\n"
     ]
    }
   ],
   "source": [
    "from sklearn.model_selection import cross_val_score, RepeatedKFold\n",
    "cv = RepeatedKFold(n_splits=20, n_repeats=5, random_state=2)\n",
    "\n",
    "scores = cross_val_score(mnb, X_train, y_train, cv=cv)\n",
    "\n",
    "display_scores(scores)"
   ]
  },
  {
   "cell_type": "markdown",
   "id": "9030d5ed-b539-4478-a36a-61dcdabad411",
   "metadata": {},
   "source": [
    "### Bernoulli Naive Bayes"
   ]
  },
  {
   "cell_type": "code",
   "execution_count": 66,
   "id": "3bca3ab2-1b92-4775-b938-e7fa1e50e41a",
   "metadata": {
    "tags": []
   },
   "outputs": [
    {
     "name": "stdout",
     "output_type": "stream",
     "text": [
      "Number of mislabeled points out of a total 1151 points : 128 \n",
      "Model score: 88.88%\n"
     ]
    }
   ],
   "source": [
    "from sklearn.naive_bayes import BernoulliNB\n",
    "\n",
    "# Bernoulli Naive Bayes\n",
    "bnb = BernoulliNB()\n",
    "bnb.fit(X_train, y_train)\n",
    "\n",
    "# prediction score\n",
    "by_pred = bnb.fit(X_train, y_train).predict(X_test)\n",
    "bscore = bnb.score(X_test, y_test)\n",
    "\n",
    "print(\"Number of mislabeled points out of a total %d points : %d \\n\\\n",
    "Model score:\"\n",
    "      % (X_test.shape[0], (y_test != by_pred).sum()), \"{0:.2%}\".format(bscore))"
   ]
  },
  {
   "cell_type": "markdown",
   "id": "07bb47b0-db62-41ae-8228-bc23afdc8dca",
   "metadata": {},
   "source": [
    "### K-Fold Cross Validation"
   ]
  },
  {
   "cell_type": "code",
   "execution_count": 67,
   "id": "08c1f442-33cd-48ec-9137-ef421f5366dd",
   "metadata": {
    "tags": []
   },
   "outputs": [
    {
     "name": "stdout",
     "output_type": "stream",
     "text": [
      "Scores: [0.86127168 0.88439306 0.89595376 0.92485549 0.86127168 0.88439306\n",
      " 0.86705202 0.89595376 0.86705202 0.86705202 0.91860465 0.89534884\n",
      " 0.90116279 0.88953488 0.87790698 0.90697674 0.90116279 0.86046512\n",
      " 0.85465116 0.86627907]\n",
      "\n",
      "Mean: 0.8840670789084554 (88.41%)\n",
      "\n",
      "Standard deviation: 0.020112679738551305 (2.01%)\n"
     ]
    }
   ],
   "source": [
    "from sklearn.model_selection import cross_val_score\n",
    "\n",
    "# we specify 20 folds, i.e, 20 train-test splits and fitted models. \n",
    "scores = cross_val_score(bnb, X_train, y_train, \n",
    "                         cv = 20)\n",
    "\n",
    "def display_scores(scores):\n",
    "    print(\"Scores:\", scores)\n",
    "    print(\"\\nMean:\", scores.mean(), f\"({scores.mean():.2%})\")\n",
    "    print(\"\\nStandard deviation:\", scores.std(), f\"({scores.std():.2%})\")\n",
    "\n",
    "display_scores(scores)"
   ]
  },
  {
   "cell_type": "markdown",
   "id": "ab498966-a378-440f-b593-5e02a7bc72ab",
   "metadata": {},
   "source": [
    "### Repeated K-Fold Cross Validation"
   ]
  },
  {
   "cell_type": "code",
   "execution_count": 68,
   "id": "5e73bb21-d5dd-440a-bee9-ce0d03207b0d",
   "metadata": {
    "tags": []
   },
   "outputs": [
    {
     "name": "stdout",
     "output_type": "stream",
     "text": [
      "Scores: [0.83815029 0.87283237 0.82080925 0.92485549 0.89595376 0.9017341\n",
      " 0.9017341  0.87861272 0.9132948  0.84971098 0.87209302 0.84302326\n",
      " 0.88372093 0.91860465 0.88953488 0.86046512 0.84302326 0.9244186\n",
      " 0.93023256 0.90116279 0.91907514 0.86705202 0.9132948  0.86705202\n",
      " 0.86705202 0.86705202 0.86705202 0.87861272 0.89017341 0.89595376\n",
      " 0.88953488 0.88372093 0.89534884 0.81976744 0.90697674 0.87209302\n",
      " 0.90116279 0.91860465 0.88372093 0.87790698 0.89595376 0.89017341\n",
      " 0.9017341  0.9132948  0.89017341 0.89017341 0.82080925 0.86127168\n",
      " 0.9132948  0.91907514 0.88372093 0.86627907 0.87790698 0.86046512\n",
      " 0.9127907  0.84883721 0.93023256 0.88372093 0.84883721 0.87790698\n",
      " 0.9017341  0.90751445 0.89017341 0.86127168 0.87283237 0.89595376\n",
      " 0.88439306 0.85549133 0.88439306 0.87283237 0.90116279 0.88372093\n",
      " 0.87790698 0.86046512 0.88953488 0.90116279 0.88953488 0.86627907\n",
      " 0.87790698 0.9127907  0.89017341 0.9017341  0.88439306 0.87861272\n",
      " 0.90751445 0.86705202 0.93641618 0.89017341 0.89595376 0.84971098\n",
      " 0.86046512 0.83139535 0.90116279 0.88372093 0.87790698 0.9127907\n",
      " 0.90697674 0.86046512 0.87790698 0.86627907]\n",
      "\n",
      "Mean: 0.8839968409732493 (88.40%)\n",
      "\n",
      "Standard deviation: 0.02469618306430559 (2.47%)\n"
     ]
    }
   ],
   "source": [
    "from sklearn.model_selection import cross_val_score, RepeatedKFold\n",
    "cv = RepeatedKFold(n_splits=20, n_repeats=5, random_state=2)\n",
    "\n",
    "scores = cross_val_score(bnb, X_train, y_train, cv=cv)\n",
    "\n",
    "display_scores(scores)"
   ]
  }
 ],
 "metadata": {
  "kernelspec": {
   "display_name": "Python 3 (ipykernel)",
   "language": "python",
   "name": "python3"
  },
  "language_info": {
   "codemirror_mode": {
    "name": "ipython",
    "version": 3
   },
   "file_extension": ".py",
   "mimetype": "text/x-python",
   "name": "python",
   "nbconvert_exporter": "python",
   "pygments_lexer": "ipython3",
   "version": "3.10.6"
  }
 },
 "nbformat": 4,
 "nbformat_minor": 5
}
