{
 "cells": [
  {
   "cell_type": "markdown",
   "id": "950a382d-b9c6-4a8d-b82f-c6175149c7ec",
   "metadata": {
    "tags": []
   },
   "source": [
    "## Naive Bayes"
   ]
  },
  {
   "cell_type": "code",
   "execution_count": 11,
   "id": "2d830dd6-62af-446f-a113-cbd2d46c4afb",
   "metadata": {
    "tags": []
   },
   "outputs": [],
   "source": [
    "import pandas as pd\n",
    "df = pd.read_csv('output/spam_email.csv')"
   ]
  },
  {
   "cell_type": "code",
   "execution_count": 12,
   "id": "ef8e43b8-6372-46c6-b138-077d1d2c4b3d",
   "metadata": {
    "tags": []
   },
   "outputs": [],
   "source": [
    "# spliting test and train samples\n",
    "from sklearn.model_selection import train_test_split\n",
    "\n",
    "df_predictors = df.drop('spam', axis = 1)\n",
    "df_predicted = df['spam']\n",
    "\n",
    "X_train, X_test, y_train, y_test = train_test_split(df_predictors,\n",
    "                                                    df_predicted,\n",
    "                                                    test_size = 0.5,\n",
    "                                                    random_state = 0)"
   ]
  },
  {
   "cell_type": "markdown",
   "id": "782658f8-e4d2-444a-bfe6-247a1f390ffa",
   "metadata": {},
   "source": [
    "### Gaussian Naive Bayes"
   ]
  },
  {
   "cell_type": "code",
   "execution_count": 10,
   "id": "cee3230b-2609-4c96-839b-805e1abf6949",
   "metadata": {
    "tags": []
   },
   "outputs": [
    {
     "name": "stdout",
     "output_type": "stream",
     "text": [
      "Number of mislabeled points out of a total 2301 points : 389 \n",
      "Model score: 83.09%\n"
     ]
    }
   ],
   "source": [
    "from sklearn.naive_bayes import GaussianNB\n",
    "\n",
    "# Gaussian Naive Bayes model\n",
    "gnb = GaussianNB()\n",
    "gnb.fit(X_train, y_train)\n",
    "\n",
    "# prediction score: \n",
    "gy_pred = gnb.fit(X_train, y_train).predict(X_test)\n",
    "\n",
    "gscore = gnb.score(X_test, y_test)\n",
    "\n",
    "print(\"Number of mislabeled points out of a total %d points : %d \\n\\\n",
    "Model score:\"\n",
    "      % (X_test.shape[0], (y_test != gy_pred).sum()), \"{0:.2%}\".format(gscore))"
   ]
  },
  {
   "cell_type": "markdown",
   "id": "99171b43-5143-4ddd-a3a3-d8398c7974ba",
   "metadata": {},
   "source": [
    "### Multinomia Naive Bayes"
   ]
  },
  {
   "cell_type": "code",
   "execution_count": 5,
   "id": "7444c130-9918-4d1e-b410-72a3250a8969",
   "metadata": {
    "tags": []
   },
   "outputs": [
    {
     "name": "stdout",
     "output_type": "stream",
     "text": [
      "Number of mislabeled points out of a total 2301 points : 450 \n",
      "Model score: 80.44%\n"
     ]
    }
   ],
   "source": [
    "from sklearn.naive_bayes import MultinomialNB\n",
    "\n",
    "# Multinomia Naive Bayes\n",
    "mnb = MultinomialNB()\n",
    "mnb.fit(X_train, y_train)\n",
    "\n",
    "# prediction score\n",
    "my_pred = mnb.fit(X_train, y_train).predict(X_test)\n",
    "mscore = mnb.score(X_test, y_test)\n",
    "\n",
    "print(\"Number of mislabeled points out of a total %d points : %d \\n\\\n",
    "Model score:\"\n",
    "      % (X_test.shape[0], (y_test != my_pred).sum()), \"{0:.2%}\".format(mscore))"
   ]
  },
  {
   "cell_type": "markdown",
   "id": "9030d5ed-b539-4478-a36a-61dcdabad411",
   "metadata": {},
   "source": [
    "### Bernoulli Naive Bayes"
   ]
  },
  {
   "cell_type": "code",
   "execution_count": 13,
   "id": "3bca3ab2-1b92-4775-b938-e7fa1e50e41a",
   "metadata": {
    "tags": []
   },
   "outputs": [
    {
     "name": "stdout",
     "output_type": "stream",
     "text": [
      "Number of mislabeled points out of a total 2301 points : 287 \n",
      "Model score: 87.53%\n"
     ]
    }
   ],
   "source": [
    "from sklearn.naive_bayes import BernoulliNB\n",
    "\n",
    "# Bernoulli Naive Bayes\n",
    "bnb = BernoulliNB()\n",
    "bnb.fit(X_train, y_train)\n",
    "\n",
    "# prediction score\n",
    "by_pred = bnb.fit(X_train, y_train).predict(X_test)\n",
    "bscore = bnb.score(X_test, y_test)\n",
    "\n",
    "print(\"Number of mislabeled points out of a total %d points : %d \\n\\\n",
    "Model score:\"\n",
    "      % (X_test.shape[0], (y_test != by_pred).sum()), \"{0:.2%}\".format(bscore))"
   ]
  }
 ],
 "metadata": {
  "kernelspec": {
   "display_name": "Python 3 (ipykernel)",
   "language": "python",
   "name": "python3"
  },
  "language_info": {
   "codemirror_mode": {
    "name": "ipython",
    "version": 3
   },
   "file_extension": ".py",
   "mimetype": "text/x-python",
   "name": "python",
   "nbconvert_exporter": "python",
   "pygments_lexer": "ipython3",
   "version": "3.10.6"
  }
 },
 "nbformat": 4,
 "nbformat_minor": 5
}
