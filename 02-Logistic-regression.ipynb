{
 "cells": [
  {
   "cell_type": "markdown",
   "id": "f9e5bb5e-acbc-4442-8132-bbc80d1a54c1",
   "metadata": {
    "tags": []
   },
   "source": [
    "# Logistic Regression"
   ]
  },
  {
   "cell_type": "code",
   "execution_count": 1,
   "id": "c5f2fbe0-e5ee-4342-8f2f-c7438ead0d32",
   "metadata": {
    "tags": []
   },
   "outputs": [],
   "source": [
    "import pandas as pd\n",
    "import numpy as np\n",
    "np.random.seed(1)\n",
    "\n",
    "df = pd.read_csv('output/spam_email.csv')"
   ]
  },
  {
   "cell_type": "code",
   "execution_count": 2,
   "id": "28f2bdbd-ddc2-4f4a-bfa9-a5545169b9ae",
   "metadata": {
    "tags": []
   },
   "outputs": [],
   "source": [
    "# spliting test and train samples\n",
    "from sklearn.model_selection import train_test_split\n",
    "\n",
    "df_predictors = df.drop('spam', axis = 1)\n",
    "df_predicted = df['spam']\n",
    "\n",
    "X_train, X_test, y_train, y_test = train_test_split(df_predictors, df_predicted)"
   ]
  },
  {
   "cell_type": "code",
   "execution_count": 3,
   "id": "8e9e33c7-20db-475c-80e9-0612362dd899",
   "metadata": {
    "tags": []
   },
   "outputs": [
    {
     "data": {
      "text/html": [
       "<style>#sk-container-id-1 {color: black;background-color: white;}#sk-container-id-1 pre{padding: 0;}#sk-container-id-1 div.sk-toggleable {background-color: white;}#sk-container-id-1 label.sk-toggleable__label {cursor: pointer;display: block;width: 100%;margin-bottom: 0;padding: 0.3em;box-sizing: border-box;text-align: center;}#sk-container-id-1 label.sk-toggleable__label-arrow:before {content: \"▸\";float: left;margin-right: 0.25em;color: #696969;}#sk-container-id-1 label.sk-toggleable__label-arrow:hover:before {color: black;}#sk-container-id-1 div.sk-estimator:hover label.sk-toggleable__label-arrow:before {color: black;}#sk-container-id-1 div.sk-toggleable__content {max-height: 0;max-width: 0;overflow: hidden;text-align: left;background-color: #f0f8ff;}#sk-container-id-1 div.sk-toggleable__content pre {margin: 0.2em;color: black;border-radius: 0.25em;background-color: #f0f8ff;}#sk-container-id-1 input.sk-toggleable__control:checked~div.sk-toggleable__content {max-height: 200px;max-width: 100%;overflow: auto;}#sk-container-id-1 input.sk-toggleable__control:checked~label.sk-toggleable__label-arrow:before {content: \"▾\";}#sk-container-id-1 div.sk-estimator input.sk-toggleable__control:checked~label.sk-toggleable__label {background-color: #d4ebff;}#sk-container-id-1 div.sk-label input.sk-toggleable__control:checked~label.sk-toggleable__label {background-color: #d4ebff;}#sk-container-id-1 input.sk-hidden--visually {border: 0;clip: rect(1px 1px 1px 1px);clip: rect(1px, 1px, 1px, 1px);height: 1px;margin: -1px;overflow: hidden;padding: 0;position: absolute;width: 1px;}#sk-container-id-1 div.sk-estimator {font-family: monospace;background-color: #f0f8ff;border: 1px dotted black;border-radius: 0.25em;box-sizing: border-box;margin-bottom: 0.5em;}#sk-container-id-1 div.sk-estimator:hover {background-color: #d4ebff;}#sk-container-id-1 div.sk-parallel-item::after {content: \"\";width: 100%;border-bottom: 1px solid gray;flex-grow: 1;}#sk-container-id-1 div.sk-label:hover label.sk-toggleable__label {background-color: #d4ebff;}#sk-container-id-1 div.sk-serial::before {content: \"\";position: absolute;border-left: 1px solid gray;box-sizing: border-box;top: 0;bottom: 0;left: 50%;z-index: 0;}#sk-container-id-1 div.sk-serial {display: flex;flex-direction: column;align-items: center;background-color: white;padding-right: 0.2em;padding-left: 0.2em;position: relative;}#sk-container-id-1 div.sk-item {position: relative;z-index: 1;}#sk-container-id-1 div.sk-parallel {display: flex;align-items: stretch;justify-content: center;background-color: white;position: relative;}#sk-container-id-1 div.sk-item::before, #sk-container-id-1 div.sk-parallel-item::before {content: \"\";position: absolute;border-left: 1px solid gray;box-sizing: border-box;top: 0;bottom: 0;left: 50%;z-index: -1;}#sk-container-id-1 div.sk-parallel-item {display: flex;flex-direction: column;z-index: 1;position: relative;background-color: white;}#sk-container-id-1 div.sk-parallel-item:first-child::after {align-self: flex-end;width: 50%;}#sk-container-id-1 div.sk-parallel-item:last-child::after {align-self: flex-start;width: 50%;}#sk-container-id-1 div.sk-parallel-item:only-child::after {width: 0;}#sk-container-id-1 div.sk-dashed-wrapped {border: 1px dashed gray;margin: 0 0.4em 0.5em 0.4em;box-sizing: border-box;padding-bottom: 0.4em;background-color: white;}#sk-container-id-1 div.sk-label label {font-family: monospace;font-weight: bold;display: inline-block;line-height: 1.2em;}#sk-container-id-1 div.sk-label-container {text-align: center;}#sk-container-id-1 div.sk-container {/* jupyter's `normalize.less` sets `[hidden] { display: none; }` but bootstrap.min.css set `[hidden] { display: none !important; }` so we also need the `!important` here to be able to override the default hidden behavior on the sphinx rendered scikit-learn.org. See: https://github.com/scikit-learn/scikit-learn/issues/21755 */display: inline-block !important;position: relative;}#sk-container-id-1 div.sk-text-repr-fallback {display: none;}</style><div id=\"sk-container-id-1\" class=\"sk-top-container\"><div class=\"sk-text-repr-fallback\"><pre>LogisticRegression(max_iter=2000)</pre><b>In a Jupyter environment, please rerun this cell to show the HTML representation or trust the notebook. <br />On GitHub, the HTML representation is unable to render, please try loading this page with nbviewer.org.</b></div><div class=\"sk-container\" hidden><div class=\"sk-item\"><div class=\"sk-estimator sk-toggleable\"><input class=\"sk-toggleable__control sk-hidden--visually\" id=\"sk-estimator-id-1\" type=\"checkbox\" checked><label for=\"sk-estimator-id-1\" class=\"sk-toggleable__label sk-toggleable__label-arrow\">LogisticRegression</label><div class=\"sk-toggleable__content\"><pre>LogisticRegression(max_iter=2000)</pre></div></div></div></div></div>"
      ],
      "text/plain": [
       "LogisticRegression(max_iter=2000)"
      ]
     },
     "execution_count": 3,
     "metadata": {},
     "output_type": "execute_result"
    }
   ],
   "source": [
    "# training the model \n",
    "from sklearn.linear_model import LogisticRegression\n",
    "\n",
    "LRmodel = LogisticRegression(solver='lbfgs', max_iter=2000)\n",
    "LRmodel.fit(X_train, y_train)"
   ]
  },
  {
   "cell_type": "code",
   "execution_count": 4,
   "id": "6d9b8699-ad91-4cbc-af3d-6dcf51fda0b4",
   "metadata": {
    "tags": []
   },
   "outputs": [
    {
     "data": {
      "text/plain": [
       "0.9348392701998263"
      ]
     },
     "execution_count": 4,
     "metadata": {},
     "output_type": "execute_result"
    }
   ],
   "source": [
    "# prediction score\n",
    "LRmodel.score(X_test, y_test)"
   ]
  },
  {
   "cell_type": "markdown",
   "id": "6d3231a5-5331-458d-952f-63b4135385e5",
   "metadata": {},
   "source": [
    "The model is capable to detect in average 93.49% of spam emails;"
   ]
  },
  {
   "cell_type": "code",
   "execution_count": 5,
   "id": "bb8f8062-7cc8-4abe-a7f6-a850e30edfdb",
   "metadata": {
    "tags": []
   },
   "outputs": [
    {
     "data": {
      "text/plain": [
       "0.06516072980017376"
      ]
     },
     "execution_count": 5,
     "metadata": {},
     "output_type": "execute_result"
    }
   ],
   "source": [
    "# error \n",
    "from sklearn.metrics import mean_squared_error\n",
    "LRmodel.predict(X_train)\n",
    "\n",
    "mean_squared_error(y_test, LRmodel.predict(X_test))"
   ]
  },
  {
   "cell_type": "markdown",
   "id": "cd615c0e-4828-498b-9429-0c8c4a5dfd36",
   "metadata": {},
   "source": [
    "# Resampling methods"
   ]
  },
  {
   "cell_type": "markdown",
   "id": "1df81b72-5ee5-45be-8029-1a4029764827",
   "metadata": {},
   "source": [
    "## Cross Validation"
   ]
  },
  {
   "cell_type": "code",
   "execution_count": 21,
   "id": "35360b64-834b-43e6-bf64-b9a71ffd5a5a",
   "metadata": {
    "tags": []
   },
   "outputs": [],
   "source": [
    "from sklearn.model_selection import cross_val_score\n",
    "\n",
    "scores = cross_val_score(LRmodel, X_train, y_train, \n",
    "                         cv = 20)"
   ]
  },
  {
   "cell_type": "code",
   "execution_count": 22,
   "id": "a98a1aa3-7362-44a6-9df1-a2018295af36",
   "metadata": {
    "tags": []
   },
   "outputs": [
    {
     "name": "stdout",
     "output_type": "stream",
     "text": [
      "Scores: [0.9017341  0.94797688 0.89017341 0.90751445 0.93063584 0.90751445\n",
      " 0.94219653 0.93063584 0.89017341 0.9017341  0.90697674 0.94186047\n",
      " 0.93023256 0.93023256 0.93604651 0.93604651 0.94186047 0.95348837\n",
      " 0.93604651 0.94767442]\n",
      "\n",
      "Mean: 0.9255377066810058\n",
      "\n",
      "Std deviation: 0.019546376020078658\n"
     ]
    }
   ],
   "source": [
    "def display_scores(scores):\n",
    "    print(\"Scores:\", scores)\n",
    "    print(\"\\nMean:\", scores.mean())\n",
    "    print(\"\\nStd deviation:\", scores.std())\n",
    "\n",
    "display_scores(scores)"
   ]
  },
  {
   "cell_type": "markdown",
   "id": "e5d3c27d-7e43-40d8-957c-e93a70ea0d81",
   "metadata": {},
   "source": [
    "## K-Fold"
   ]
  },
  {
   "cell_type": "code",
   "execution_count": 94,
   "id": "a3587d57-49b0-4559-af9c-f9c0ddffba69",
   "metadata": {
    "tags": []
   },
   "outputs": [
    {
     "name": "stdout",
     "output_type": "stream",
     "text": [
      "    train  test  accuracy\n",
      "0    4370   231  0.922078\n",
      "1    4371   230  0.934783\n",
      "2    4371   230  0.917391\n",
      "3    4371   230  0.956522\n",
      "4    4371   230  0.939130\n",
      "5    4371   230  0.926087\n",
      "6    4371   230  0.913043\n",
      "7    4371   230  0.926087\n",
      "8    4371   230  0.921739\n",
      "9    4371   230  0.921739\n",
      "10   4371   230  0.943478\n",
      "11   4371   230  0.873913\n",
      "12   4371   230  0.913043\n",
      "13   4371   230  0.926087\n",
      "14   4371   230  0.930435\n",
      "15   4371   230  0.934783\n",
      "16   4371   230  0.939130\n",
      "17   4371   230  0.939130\n",
      "18   4371   230  0.934783\n",
      "19   4371   230  0.956522\n",
      "average accuracy: 0.9284952004517221\n",
      "\n"
     ]
    }
   ],
   "source": [
    "from sklearn.model_selection import KFold\n",
    "\n",
    "kf = KFold(n_splits=20, shuffle = True, random_state = 1)\n",
    "\n",
    "r_train = []\n",
    "r_test = []\n",
    "accuracy = []\n",
    "for train, test in kf.split(df):\n",
    "    # print('train: ', train.shape[0])\n",
    "    # print('test: ', test.shape[0])\n",
    "    r_train.append(train.shape[0])\n",
    "    r_test.append(test.shape[0])\n",
    "\n",
    "    X_traink, X_testk = df_predictors.iloc[train], df_predictors.iloc[test]\n",
    "    y_traink, y_testk = df_predicted.iloc[train], df_predicted.iloc[test]\n",
    "\n",
    "    LRmodel = LogisticRegression(solver='lbfgs', max_iter=3000)\n",
    "    LRmodel.fit(X_traink, y_traink)\n",
    "\n",
    "    # print('accuracy', LRmodel.score(X_testk, y_testk))\n",
    "    # print()\n",
    "\n",
    "    acc = LRmodel.score(X_testk, y_testk)\n",
    "    accuracy.append(acc)\n",
    "\n",
    "results = pd.DataFrame()\n",
    "results['train'] = r_train\n",
    "results['test'] = r_test\n",
    "results['accuracy'] = accuracy\n",
    "\n",
    "print(results)\n",
    "print('average accuracy:', results['accuracy'].mean())\n",
    "print()"
   ]
  },
  {
   "cell_type": "markdown",
   "id": "808c88da-f251-413f-89ef-c8d702191189",
   "metadata": {},
   "source": [
    "## Repeated K-Fold"
   ]
  },
  {
   "cell_type": "code",
   "execution_count": 92,
   "id": "50b7e799-da83-4b87-9a0f-9f1387669622",
   "metadata": {},
   "outputs": [
    {
     "name": "stdout",
     "output_type": "stream",
     "text": [
      "random_state 1\n",
      "    train  test  accuracy\n",
      "0    4370   231  0.922078\n",
      "1    4371   230  0.934783\n",
      "2    4371   230  0.917391\n",
      "3    4371   230  0.956522\n",
      "4    4371   230  0.939130\n",
      "5    4371   230  0.926087\n",
      "6    4371   230  0.913043\n",
      "7    4371   230  0.926087\n",
      "8    4371   230  0.921739\n",
      "9    4371   230  0.921739\n",
      "10   4371   230  0.943478\n",
      "11   4371   230  0.873913\n",
      "12   4371   230  0.913043\n",
      "13   4371   230  0.926087\n",
      "14   4371   230  0.930435\n",
      "15   4371   230  0.934783\n",
      "16   4371   230  0.939130\n",
      "17   4371   230  0.939130\n",
      "18   4371   230  0.934783\n",
      "19   4371   230  0.956522\n",
      "average accuracy: 0.9284952004517221\n",
      "\n",
      "random_state 2\n",
      "    train  test  accuracy\n",
      "0    4370   231  0.948052\n",
      "1    4371   230  0.960870\n",
      "2    4371   230  0.886957\n",
      "3    4371   230  0.917391\n",
      "4    4371   230  0.913043\n",
      "5    4371   230  0.913043\n",
      "6    4371   230  0.956522\n",
      "7    4371   230  0.930435\n",
      "8    4371   230  0.960870\n",
      "9    4371   230  0.926087\n",
      "10   4371   230  0.956522\n",
      "11   4371   230  0.891304\n",
      "12   4371   230  0.917391\n",
      "13   4371   230  0.917391\n",
      "14   4371   230  0.913043\n",
      "15   4371   230  0.921739\n",
      "16   4371   230  0.939130\n",
      "17   4371   230  0.930435\n",
      "18   4371   230  0.947826\n",
      "19   4371   230  0.952174\n",
      "average accuracy: 0.9300112930547713\n",
      "\n",
      "random_state 3\n",
      "    train  test  accuracy\n",
      "0    4370   231  0.887446\n",
      "1    4371   230  0.947826\n",
      "2    4371   230  0.978261\n",
      "3    4371   230  0.921739\n",
      "4    4371   230  0.900000\n",
      "5    4371   230  0.930435\n",
      "6    4371   230  0.926087\n",
      "7    4371   230  0.917391\n",
      "8    4371   230  0.934783\n",
      "9    4371   230  0.943478\n",
      "10   4371   230  0.904348\n",
      "11   4371   230  0.921739\n",
      "12   4371   230  0.939130\n",
      "13   4371   230  0.921739\n",
      "14   4371   230  0.943478\n",
      "15   4371   230  0.917391\n",
      "16   4371   230  0.943478\n",
      "17   4371   230  0.908696\n",
      "18   4371   230  0.921739\n",
      "19   4371   230  0.934783\n",
      "average accuracy: 0.9271983813288163\n",
      "\n",
      "random_state 4\n",
      "    train  test  accuracy\n",
      "0    4370   231  0.900433\n",
      "1    4371   230  0.921739\n",
      "2    4371   230  0.947826\n",
      "3    4371   230  0.952174\n",
      "4    4371   230  0.926087\n",
      "5    4371   230  0.960870\n",
      "6    4371   230  0.913043\n",
      "7    4371   230  0.900000\n",
      "8    4371   230  0.947826\n",
      "9    4371   230  0.917391\n",
      "10   4371   230  0.926087\n",
      "11   4371   230  0.956522\n",
      "12   4371   230  0.921739\n",
      "13   4371   230  0.930435\n",
      "14   4371   230  0.895652\n",
      "15   4371   230  0.939130\n",
      "16   4371   230  0.917391\n",
      "17   4371   230  0.943478\n",
      "18   4371   230  0.908696\n",
      "19   4371   230  0.926087\n",
      "average accuracy: 0.927630340673819\n",
      "\n",
      "final average accuracy among folds: 0.9283338038772821\n"
     ]
    }
   ],
   "source": [
    "from sklearn.model_selection import KFold\n",
    "\n",
    "acc_mean = []\n",
    "for rep in range(1, 5): \n",
    "    kf = KFold(n_splits=20, shuffle = True, random_state = rep)\n",
    "\n",
    "    r_train = []\n",
    "    r_test = []\n",
    "    accuracy = []\n",
    "    for train, test in kf.split(df):\n",
    "        # print('train: ', train.shape[0])\n",
    "        # print('test: ', test.shape[0])\n",
    "        r_train.append(train.shape[0])\n",
    "        r_test.append(test.shape[0])\n",
    "\n",
    "        X_traink, X_testk = df_predictors.iloc[train], df_predictors.iloc[test]\n",
    "        y_traink, y_testk = df_predicted.iloc[train], df_predicted.iloc[test]\n",
    "\n",
    "        LRmodel = LogisticRegression(solver='lbfgs', max_iter=3000)\n",
    "        LRmodel.fit(X_traink, y_traink)\n",
    "\n",
    "        # print('accuracy', LRmodel.score(X_testk, y_testk))\n",
    "        # print()\n",
    "\n",
    "        acc = LRmodel.score(X_testk, y_testk)\n",
    "        accuracy.append(acc)\n",
    "\n",
    "    results = pd.DataFrame()\n",
    "    results['train'] = r_train\n",
    "    results['test'] = r_test\n",
    "    results['accuracy'] = accuracy\n",
    "    \n",
    "    print('random_state', rep)\n",
    "    print(results)\n",
    "    print('average accuracy:', results['accuracy'].mean())\n",
    "    print()\n",
    "    ac = results['accuracy'].mean()\n",
    "    acc_mean.append(ac)\n",
    "\n",
    "print('final average accuracy among folds:', np.mean(acc_mean))"
   ]
  },
  {
   "cell_type": "code",
   "execution_count": null,
   "id": "09461e5f-ba4e-49e0-b200-2e4a63fa1d13",
   "metadata": {},
   "outputs": [],
   "source": []
  }
 ],
 "metadata": {
  "kernelspec": {
   "display_name": "Python 3 (ipykernel)",
   "language": "python",
   "name": "python3"
  },
  "language_info": {
   "codemirror_mode": {
    "name": "ipython",
    "version": 3
   },
   "file_extension": ".py",
   "mimetype": "text/x-python",
   "name": "python",
   "nbconvert_exporter": "python",
   "pygments_lexer": "ipython3",
   "version": "3.10.6"
  }
 },
 "nbformat": 4,
 "nbformat_minor": 5
}
