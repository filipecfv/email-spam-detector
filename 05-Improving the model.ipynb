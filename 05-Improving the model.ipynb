{
 "cells": [
  {
   "cell_type": "markdown",
   "id": "6e1893af-5e99-43e9-9a4a-877491e1a1b4",
   "metadata": {},
   "source": [
    "# Improving the Model\n",
    "\n",
    "As the Random Forest model has shown the best perfomance, we'll try to improve it.  "
   ]
  },
  {
   "cell_type": "code",
   "execution_count": 7,
   "id": "f2a0d0c0-7a9b-4ae4-a543-79992f2d522d",
   "metadata": {
    "tags": []
   },
   "outputs": [
    {
     "data": {
      "text/html": [
       "<div>\n",
       "<style scoped>\n",
       "    .dataframe tbody tr th:only-of-type {\n",
       "        vertical-align: middle;\n",
       "    }\n",
       "\n",
       "    .dataframe tbody tr th {\n",
       "        vertical-align: top;\n",
       "    }\n",
       "\n",
       "    .dataframe thead th {\n",
       "        text-align: right;\n",
       "    }\n",
       "</style>\n",
       "<table border=\"1\" class=\"dataframe\">\n",
       "  <thead>\n",
       "    <tr style=\"text-align: right;\">\n",
       "      <th></th>\n",
       "      <th>0</th>\n",
       "      <th>1</th>\n",
       "      <th>2</th>\n",
       "      <th>3</th>\n",
       "      <th>4</th>\n",
       "      <th>5</th>\n",
       "      <th>6</th>\n",
       "      <th>7</th>\n",
       "      <th>8</th>\n",
       "      <th>9</th>\n",
       "      <th>...</th>\n",
       "      <th>48</th>\n",
       "      <th>49</th>\n",
       "      <th>50</th>\n",
       "      <th>51</th>\n",
       "      <th>52</th>\n",
       "      <th>53</th>\n",
       "      <th>54</th>\n",
       "      <th>55</th>\n",
       "      <th>56</th>\n",
       "      <th>spam</th>\n",
       "    </tr>\n",
       "  </thead>\n",
       "  <tbody>\n",
       "    <tr>\n",
       "      <th>0</th>\n",
       "      <td>0.00</td>\n",
       "      <td>0.64</td>\n",
       "      <td>0.64</td>\n",
       "      <td>0.0</td>\n",
       "      <td>0.32</td>\n",
       "      <td>0.00</td>\n",
       "      <td>0.00</td>\n",
       "      <td>0.00</td>\n",
       "      <td>0.00</td>\n",
       "      <td>0.00</td>\n",
       "      <td>...</td>\n",
       "      <td>0.00</td>\n",
       "      <td>0.000</td>\n",
       "      <td>0.0</td>\n",
       "      <td>0.778</td>\n",
       "      <td>0.000</td>\n",
       "      <td>0.000</td>\n",
       "      <td>3.756</td>\n",
       "      <td>61</td>\n",
       "      <td>278</td>\n",
       "      <td>1</td>\n",
       "    </tr>\n",
       "    <tr>\n",
       "      <th>1</th>\n",
       "      <td>0.21</td>\n",
       "      <td>0.28</td>\n",
       "      <td>0.50</td>\n",
       "      <td>0.0</td>\n",
       "      <td>0.14</td>\n",
       "      <td>0.28</td>\n",
       "      <td>0.21</td>\n",
       "      <td>0.07</td>\n",
       "      <td>0.00</td>\n",
       "      <td>0.94</td>\n",
       "      <td>...</td>\n",
       "      <td>0.00</td>\n",
       "      <td>0.132</td>\n",
       "      <td>0.0</td>\n",
       "      <td>0.372</td>\n",
       "      <td>0.180</td>\n",
       "      <td>0.048</td>\n",
       "      <td>5.114</td>\n",
       "      <td>101</td>\n",
       "      <td>1028</td>\n",
       "      <td>1</td>\n",
       "    </tr>\n",
       "    <tr>\n",
       "      <th>2</th>\n",
       "      <td>0.06</td>\n",
       "      <td>0.00</td>\n",
       "      <td>0.71</td>\n",
       "      <td>0.0</td>\n",
       "      <td>1.23</td>\n",
       "      <td>0.19</td>\n",
       "      <td>0.19</td>\n",
       "      <td>0.12</td>\n",
       "      <td>0.64</td>\n",
       "      <td>0.25</td>\n",
       "      <td>...</td>\n",
       "      <td>0.01</td>\n",
       "      <td>0.143</td>\n",
       "      <td>0.0</td>\n",
       "      <td>0.276</td>\n",
       "      <td>0.184</td>\n",
       "      <td>0.010</td>\n",
       "      <td>9.821</td>\n",
       "      <td>485</td>\n",
       "      <td>2259</td>\n",
       "      <td>1</td>\n",
       "    </tr>\n",
       "    <tr>\n",
       "      <th>3</th>\n",
       "      <td>0.00</td>\n",
       "      <td>0.00</td>\n",
       "      <td>0.00</td>\n",
       "      <td>0.0</td>\n",
       "      <td>0.63</td>\n",
       "      <td>0.00</td>\n",
       "      <td>0.31</td>\n",
       "      <td>0.63</td>\n",
       "      <td>0.31</td>\n",
       "      <td>0.63</td>\n",
       "      <td>...</td>\n",
       "      <td>0.00</td>\n",
       "      <td>0.137</td>\n",
       "      <td>0.0</td>\n",
       "      <td>0.137</td>\n",
       "      <td>0.000</td>\n",
       "      <td>0.000</td>\n",
       "      <td>3.537</td>\n",
       "      <td>40</td>\n",
       "      <td>191</td>\n",
       "      <td>1</td>\n",
       "    </tr>\n",
       "    <tr>\n",
       "      <th>4</th>\n",
       "      <td>0.00</td>\n",
       "      <td>0.00</td>\n",
       "      <td>0.00</td>\n",
       "      <td>0.0</td>\n",
       "      <td>0.63</td>\n",
       "      <td>0.00</td>\n",
       "      <td>0.31</td>\n",
       "      <td>0.63</td>\n",
       "      <td>0.31</td>\n",
       "      <td>0.63</td>\n",
       "      <td>...</td>\n",
       "      <td>0.00</td>\n",
       "      <td>0.135</td>\n",
       "      <td>0.0</td>\n",
       "      <td>0.135</td>\n",
       "      <td>0.000</td>\n",
       "      <td>0.000</td>\n",
       "      <td>3.537</td>\n",
       "      <td>40</td>\n",
       "      <td>191</td>\n",
       "      <td>1</td>\n",
       "    </tr>\n",
       "  </tbody>\n",
       "</table>\n",
       "<p>5 rows × 58 columns</p>\n",
       "</div>"
      ],
      "text/plain": [
       "      0     1     2    3     4     5     6     7     8     9  ...    48   \n",
       "0  0.00  0.64  0.64  0.0  0.32  0.00  0.00  0.00  0.00  0.00  ...  0.00  \\\n",
       "1  0.21  0.28  0.50  0.0  0.14  0.28  0.21  0.07  0.00  0.94  ...  0.00   \n",
       "2  0.06  0.00  0.71  0.0  1.23  0.19  0.19  0.12  0.64  0.25  ...  0.01   \n",
       "3  0.00  0.00  0.00  0.0  0.63  0.00  0.31  0.63  0.31  0.63  ...  0.00   \n",
       "4  0.00  0.00  0.00  0.0  0.63  0.00  0.31  0.63  0.31  0.63  ...  0.00   \n",
       "\n",
       "      49   50     51     52     53     54   55    56  spam  \n",
       "0  0.000  0.0  0.778  0.000  0.000  3.756   61   278     1  \n",
       "1  0.132  0.0  0.372  0.180  0.048  5.114  101  1028     1  \n",
       "2  0.143  0.0  0.276  0.184  0.010  9.821  485  2259     1  \n",
       "3  0.137  0.0  0.137  0.000  0.000  3.537   40   191     1  \n",
       "4  0.135  0.0  0.135  0.000  0.000  3.537   40   191     1  \n",
       "\n",
       "[5 rows x 58 columns]"
      ]
     },
     "execution_count": 7,
     "metadata": {},
     "output_type": "execute_result"
    }
   ],
   "source": [
    "import pandas as pd\n",
    "df = pd.read_csv('output/spam_email.csv')\n",
    "df.head()"
   ]
  },
  {
   "cell_type": "markdown",
   "id": "a814ef83-8b38-4044-9029-42defb575058",
   "metadata": {},
   "source": [
    "As we've seen in the exploratory section, there are variables in the dataset that are non statistically significant towards detecting a spam email. Let's see what happens when we remove them from the model and include only the significant ones. \n",
    "\n",
    "We begin by creating a new dataframe named dfgp that only contains those good predictors. "
   ]
  },
  {
   "cell_type": "code",
   "execution_count": 31,
   "id": "e54a5051-135b-4dff-a13c-b6798e6749e9",
   "metadata": {
    "tags": []
   },
   "outputs": [
    {
     "data": {
      "text/html": [
       "<div>\n",
       "<style scoped>\n",
       "    .dataframe tbody tr th:only-of-type {\n",
       "        vertical-align: middle;\n",
       "    }\n",
       "\n",
       "    .dataframe tbody tr th {\n",
       "        vertical-align: top;\n",
       "    }\n",
       "\n",
       "    .dataframe thead th {\n",
       "        text-align: right;\n",
       "    }\n",
       "</style>\n",
       "<table border=\"1\" class=\"dataframe\">\n",
       "  <thead>\n",
       "    <tr style=\"text-align: right;\">\n",
       "      <th></th>\n",
       "      <th>2</th>\n",
       "      <th>3</th>\n",
       "      <th>4</th>\n",
       "      <th>5</th>\n",
       "      <th>6</th>\n",
       "      <th>7</th>\n",
       "      <th>8</th>\n",
       "      <th>9</th>\n",
       "      <th>12</th>\n",
       "      <th>15</th>\n",
       "      <th>...</th>\n",
       "      <th>44</th>\n",
       "      <th>45</th>\n",
       "      <th>46</th>\n",
       "      <th>48</th>\n",
       "      <th>49</th>\n",
       "      <th>51</th>\n",
       "      <th>52</th>\n",
       "      <th>53</th>\n",
       "      <th>54</th>\n",
       "      <th>56</th>\n",
       "    </tr>\n",
       "  </thead>\n",
       "  <tbody>\n",
       "    <tr>\n",
       "      <th>0</th>\n",
       "      <td>0.64</td>\n",
       "      <td>0.0</td>\n",
       "      <td>0.32</td>\n",
       "      <td>0.00</td>\n",
       "      <td>0.00</td>\n",
       "      <td>0.00</td>\n",
       "      <td>0.00</td>\n",
       "      <td>0.00</td>\n",
       "      <td>0.00</td>\n",
       "      <td>0.32</td>\n",
       "      <td>...</td>\n",
       "      <td>0.00</td>\n",
       "      <td>0.00</td>\n",
       "      <td>0.0</td>\n",
       "      <td>0.00</td>\n",
       "      <td>0.000</td>\n",
       "      <td>0.778</td>\n",
       "      <td>0.000</td>\n",
       "      <td>0.000</td>\n",
       "      <td>3.756</td>\n",
       "      <td>278</td>\n",
       "    </tr>\n",
       "    <tr>\n",
       "      <th>1</th>\n",
       "      <td>0.50</td>\n",
       "      <td>0.0</td>\n",
       "      <td>0.14</td>\n",
       "      <td>0.28</td>\n",
       "      <td>0.21</td>\n",
       "      <td>0.07</td>\n",
       "      <td>0.00</td>\n",
       "      <td>0.94</td>\n",
       "      <td>0.65</td>\n",
       "      <td>0.14</td>\n",
       "      <td>...</td>\n",
       "      <td>0.00</td>\n",
       "      <td>0.00</td>\n",
       "      <td>0.0</td>\n",
       "      <td>0.00</td>\n",
       "      <td>0.132</td>\n",
       "      <td>0.372</td>\n",
       "      <td>0.180</td>\n",
       "      <td>0.048</td>\n",
       "      <td>5.114</td>\n",
       "      <td>1028</td>\n",
       "    </tr>\n",
       "    <tr>\n",
       "      <th>2</th>\n",
       "      <td>0.71</td>\n",
       "      <td>0.0</td>\n",
       "      <td>1.23</td>\n",
       "      <td>0.19</td>\n",
       "      <td>0.19</td>\n",
       "      <td>0.12</td>\n",
       "      <td>0.64</td>\n",
       "      <td>0.25</td>\n",
       "      <td>0.12</td>\n",
       "      <td>0.06</td>\n",
       "      <td>...</td>\n",
       "      <td>0.06</td>\n",
       "      <td>0.06</td>\n",
       "      <td>0.0</td>\n",
       "      <td>0.01</td>\n",
       "      <td>0.143</td>\n",
       "      <td>0.276</td>\n",
       "      <td>0.184</td>\n",
       "      <td>0.010</td>\n",
       "      <td>9.821</td>\n",
       "      <td>2259</td>\n",
       "    </tr>\n",
       "    <tr>\n",
       "      <th>3</th>\n",
       "      <td>0.00</td>\n",
       "      <td>0.0</td>\n",
       "      <td>0.63</td>\n",
       "      <td>0.00</td>\n",
       "      <td>0.31</td>\n",
       "      <td>0.63</td>\n",
       "      <td>0.31</td>\n",
       "      <td>0.63</td>\n",
       "      <td>0.31</td>\n",
       "      <td>0.31</td>\n",
       "      <td>...</td>\n",
       "      <td>0.00</td>\n",
       "      <td>0.00</td>\n",
       "      <td>0.0</td>\n",
       "      <td>0.00</td>\n",
       "      <td>0.137</td>\n",
       "      <td>0.137</td>\n",
       "      <td>0.000</td>\n",
       "      <td>0.000</td>\n",
       "      <td>3.537</td>\n",
       "      <td>191</td>\n",
       "    </tr>\n",
       "    <tr>\n",
       "      <th>4</th>\n",
       "      <td>0.00</td>\n",
       "      <td>0.0</td>\n",
       "      <td>0.63</td>\n",
       "      <td>0.00</td>\n",
       "      <td>0.31</td>\n",
       "      <td>0.63</td>\n",
       "      <td>0.31</td>\n",
       "      <td>0.63</td>\n",
       "      <td>0.31</td>\n",
       "      <td>0.31</td>\n",
       "      <td>...</td>\n",
       "      <td>0.00</td>\n",
       "      <td>0.00</td>\n",
       "      <td>0.0</td>\n",
       "      <td>0.00</td>\n",
       "      <td>0.135</td>\n",
       "      <td>0.135</td>\n",
       "      <td>0.000</td>\n",
       "      <td>0.000</td>\n",
       "      <td>3.537</td>\n",
       "      <td>191</td>\n",
       "    </tr>\n",
       "  </tbody>\n",
       "</table>\n",
       "<p>5 rows × 35 columns</p>\n",
       "</div>"
      ],
      "text/plain": [
       "      2    3     4     5     6     7     8     9    12    15  ...    44    45   \n",
       "0  0.64  0.0  0.32  0.00  0.00  0.00  0.00  0.00  0.00  0.32  ...  0.00  0.00  \\\n",
       "1  0.50  0.0  0.14  0.28  0.21  0.07  0.00  0.94  0.65  0.14  ...  0.00  0.00   \n",
       "2  0.71  0.0  1.23  0.19  0.19  0.12  0.64  0.25  0.12  0.06  ...  0.06  0.06   \n",
       "3  0.00  0.0  0.63  0.00  0.31  0.63  0.31  0.63  0.31  0.31  ...  0.00  0.00   \n",
       "4  0.00  0.0  0.63  0.00  0.31  0.63  0.31  0.63  0.31  0.31  ...  0.00  0.00   \n",
       "\n",
       "    46    48     49     51     52     53     54    56  \n",
       "0  0.0  0.00  0.000  0.778  0.000  0.000  3.756   278  \n",
       "1  0.0  0.00  0.132  0.372  0.180  0.048  5.114  1028  \n",
       "2  0.0  0.01  0.143  0.276  0.184  0.010  9.821  2259  \n",
       "3  0.0  0.00  0.137  0.137  0.000  0.000  3.537   191  \n",
       "4  0.0  0.00  0.135  0.135  0.000  0.000  3.537   191  \n",
       "\n",
       "[5 rows x 35 columns]"
      ]
     },
     "execution_count": 31,
     "metadata": {},
     "output_type": "execute_result"
    }
   ],
   "source": [
    "good_predictors = [2, 3, 4, 5, 6, 7, 8, 9, 12, 15, 16, 17, 18, 19, 20, 21, 22, 23, 24, \n",
    "                   26, 29, 35, 37, 41, 42, 44, 45, 46, 48, 49, 51, 52, 53, 54, 56]\n",
    "\n",
    "# transform each value into a string, as the name of our columns\n",
    "good_predictors = [str(i) for i in good_predictors]\n",
    "\n",
    "# create an empty dataframe to store only those columns that are good predictors.\n",
    "dfpg = pd.DataFrame()\n",
    "for i in good_predictors:\n",
    "    dfpg[i] = df[i]\n",
    "    \n",
    "dfpg.head()"
   ]
  },
  {
   "cell_type": "markdown",
   "id": "c143d84d-91a4-4732-a197-00677ab0b60f",
   "metadata": {
    "tags": []
   },
   "source": [
    "### Test-Split with good predictors"
   ]
  },
  {
   "cell_type": "code",
   "execution_count": 41,
   "id": "7246e923-79d9-4811-8ad7-7ba82a2df17c",
   "metadata": {
    "tags": []
   },
   "outputs": [],
   "source": [
    "# spliting test and train samples\n",
    "from sklearn.model_selection import train_test_split\n",
    "\n",
    "predictors = dfpg\n",
    "predicted = df['spam']\n",
    "\n",
    "X_train, X_test, y_train, y_test = train_test_split(predictors,\n",
    "                                                    predicted,\n",
    "                                                    test_size = 0.5,\n",
    "                                                    random_state = 0)"
   ]
  },
  {
   "cell_type": "code",
   "execution_count": 42,
   "id": "c51b2c25-efc7-4944-a212-8c45d1fb6161",
   "metadata": {
    "tags": []
   },
   "outputs": [
    {
     "name": "stdout",
     "output_type": "stream",
     "text": [
      "Number of mislabeled points out of a total 2301 points : 128 \n",
      "Model score: 94.44%\n"
     ]
    }
   ],
   "source": [
    "# Random forest model\n",
    "import numpy as np\n",
    "np.random.seed(30)\n",
    "\n",
    "from sklearn.ensemble import RandomForestClassifier\n",
    "\n",
    "forest = RandomForestClassifier(n_estimators = 1000)\n",
    "forest.fit(X_train, y_train)\n",
    "\n",
    "# prediction score: \n",
    "fscore = forest.score(X_test, y_test)\n",
    "fy_pred = forest.predict(X_test)\n",
    "\n",
    "\n",
    "print(\"Number of mislabeled points out of a total %d points : %d \\n\\\n",
    "Model score:\"\n",
    "       % (X_test.shape[0], (y_test != fy_pred).sum()), \"{0:.2%}\".format(fscore))"
   ]
  },
  {
   "cell_type": "markdown",
   "id": "5fe7dcb7-c8f9-41bd-8eed-5847d180430b",
   "metadata": {},
   "source": [
    "### K-Fold Cross Validation"
   ]
  },
  {
   "cell_type": "code",
   "execution_count": 43,
   "id": "eb1df0fd-356a-48ea-a91a-c5831daf2fca",
   "metadata": {
    "tags": []
   },
   "outputs": [
    {
     "name": "stdout",
     "output_type": "stream",
     "text": [
      "Scores: [0.92173913 0.96521739 0.93043478 0.93913043 0.97391304 0.96521739\n",
      " 0.94782609 0.93913043 0.92173913 0.95652174 0.96521739 0.94782609\n",
      " 0.94782609 0.93043478 0.95652174 0.95652174 0.95652174 0.95652174\n",
      " 0.94782609 0.96521739]\n",
      "\n",
      "Mean: 0.9495652173913042 (94.96%)\n",
      "\n",
      "Standard deviation: 0.014705682195902407 (1.47%)\n"
     ]
    }
   ],
   "source": [
    "from sklearn.model_selection import cross_val_score\n",
    "\n",
    "# we specify 20 folds, i.e, 20 train-test splits and fitted models. \n",
    "scores = cross_val_score(forest, X_train, y_train, \n",
    "                         cv = 20)\n",
    "\n",
    "def display_scores(scores):\n",
    "    print(\"Scores:\", scores)\n",
    "    print(\"\\nMean:\", scores.mean(), f\"({scores.mean():.2%})\")\n",
    "    print(\"\\nStandard deviation:\", scores.std(), f\"({scores.std():.2%})\")\n",
    "\n",
    "display_scores(scores)"
   ]
  },
  {
   "cell_type": "markdown",
   "id": "68b83f78-4870-4e5f-a9e2-795527fbbc38",
   "metadata": {},
   "source": [
    "### Repeated K-Fold Cross Validation"
   ]
  },
  {
   "cell_type": "code",
   "execution_count": 44,
   "id": "d27587e4-b7b8-4e85-a770-435becf5771f",
   "metadata": {
    "tags": []
   },
   "outputs": [
    {
     "name": "stdout",
     "output_type": "stream",
     "text": [
      "Scores: [0.96521739 1.         0.93913043 0.94782609 0.93043478 0.95652174\n",
      " 0.96521739 0.96521739 0.93043478 0.96521739 0.93043478 0.93043478\n",
      " 0.94782609 0.97391304 0.94782609 0.94782609 0.94782609 0.92173913\n",
      " 0.94782609 0.96521739 0.97391304 0.93913043 0.97391304 0.94782609\n",
      " 0.9826087  0.96521739 0.93043478 0.93043478 0.96521739 0.94782609\n",
      " 0.93913043 0.94782609 0.93043478 0.94782609 0.94782609 0.92173913\n",
      " 0.96521739 0.93913043 0.93913043 0.91304348 0.93043478 0.96521739\n",
      " 0.93043478 0.96521739 0.96521739 0.92173913 0.96521739 0.93913043\n",
      " 0.94782609 0.90434783 0.91304348 0.99130435 0.96521739 0.93913043\n",
      " 0.99130435 0.92173913 0.95652174 0.97391304 0.94782609 0.95652174\n",
      " 0.94782609 0.94782609 0.93043478 0.94782609 0.94782609 0.97391304\n",
      " 0.97391304 0.93913043 0.94782609 0.95652174 0.93043478 0.96521739\n",
      " 0.9826087  0.91304348 0.93043478 0.92173913 0.94782609 0.9826087\n",
      " 0.92173913 0.94782609 0.95652174 0.93913043 0.91304348 0.95652174\n",
      " 0.96521739 0.97391304 0.95652174 0.90434783 0.97391304 0.97391304\n",
      " 0.91304348 0.93913043 0.97391304 0.95652174 0.99130435 0.93913043\n",
      " 0.93913043 0.95652174 0.95652174 0.9826087 ]\n",
      "\n",
      "Mean: 0.9498260869565219 (94.98%)\n",
      "\n",
      "Standard deviation: 0.020828038394549785 (2.08%)\n"
     ]
    }
   ],
   "source": [
    "from sklearn.model_selection import cross_val_score, RepeatedKFold\n",
    "cv = RepeatedKFold(n_splits=20, n_repeats=5, random_state=2)\n",
    "\n",
    "scores = cross_val_score(forest, X_train, y_train, cv=cv)\n",
    "\n",
    "display_scores(scores)"
   ]
  },
  {
   "cell_type": "code",
   "execution_count": 52,
   "id": "041ed97b-755e-426b-b2e6-25a2478561fc",
   "metadata": {
    "tags": []
   },
   "outputs": [],
   "source": [
    "# spliting test and train samples\n",
    "from sklearn.model_selection import train_test_split\n",
    "\n",
    "predictors = df.drop('spam', axis = 1)\n",
    "predicted = df['spam']\n",
    "\n",
    "X_train, X_test, y_train, y_test = train_test_split(predictors, predicted)"
   ]
  },
  {
   "cell_type": "markdown",
   "id": "1cf0d53c-b6b0-4ae7-9ff6-a3ebb15fd7c3",
   "metadata": {},
   "source": [
    "## Hyperparameter tuning"
   ]
  },
  {
   "cell_type": "markdown",
   "id": "0be36c34-1676-4601-9549-b8f2ad25de90",
   "metadata": {},
   "source": [
    "### Grid Search\n",
    "\n",
    "Instead of manually trying to ajust and tune a model, randomly testing if this or that parameter change will improve or not the model, we can use Scikit-Learn's Grid Seach to test what is the best set of parameters we are giving to it. First we define a list of parameter dictionaries, pass it with the Random Forest model into the GridSeachCV and optimize the model with the .fit() method. It might take some time, but at the end the best_params_ attribute will return the better group of parameters given to it."
   ]
  },
  {
   "cell_type": "code",
   "execution_count": 67,
   "id": "b3a9d285-a255-44ed-9d4b-414c5c6c3467",
   "metadata": {
    "tags": []
   },
   "outputs": [
    {
     "data": {
      "text/plain": [
       "{'bootstrap': False, 'max_features': 2, 'n_estimators': 500}"
      ]
     },
     "execution_count": 67,
     "metadata": {},
     "output_type": "execute_result"
    }
   ],
   "source": [
    "from sklearn.model_selection import GridSearchCV\n",
    "\n",
    "param_grid = [\n",
    "    {'n_estimators': [100, 500, 1000],\n",
    "     'max_features': [2, 4, 6, 8],\n",
    "    }, \n",
    "    {'bootstrap':[False], \n",
    "     'n_estimators': [100, 500, 1000],\n",
    "     'max_features': [2, 4, 6, 8]\n",
    "    }\n",
    "]\n",
    "\n",
    "forest = RandomForestClassifier()\n",
    "\n",
    "grid_search = GridSearchCV(forest, \n",
    "                           param_grid, \n",
    "                           cv = 5,\n",
    "                           return_train_score = True)\n",
    "\n",
    "grid_search.fit(X_train, y_train)\n",
    "\n",
    "grid_search.best_params_"
   ]
  },
  {
   "cell_type": "markdown",
   "id": "9d690568-2e46-47bf-9654-c10355642e7a",
   "metadata": {},
   "source": [
    "According to the results, {'bootstrap': False, 'max_features': 2, 'n_estimators': 500} are the best paramters combination. We cant test a little further: "
   ]
  },
  {
   "cell_type": "code",
   "execution_count": 69,
   "id": "5abc99ec-021b-40f1-bef2-f481682b38ec",
   "metadata": {
    "tags": []
   },
   "outputs": [
    {
     "data": {
      "text/plain": [
       "{'bootstrap': False, 'max_features': 4, 'n_estimators': 1000}"
      ]
     },
     "execution_count": 69,
     "metadata": {},
     "output_type": "execute_result"
    }
   ],
   "source": [
    "from sklearn.model_selection import GridSearchCV\n",
    "\n",
    "param_grid = [\n",
    "    {'n_estimators': [500, 1000, 2000],\n",
    "     'max_features': [2, 4, 6, 8],\n",
    "    }, \n",
    "    {'bootstrap':[False], \n",
    "     'n_estimators': [500, 1000, 2000],\n",
    "     'max_features': [2, 4, 6, 8]\n",
    "    }\n",
    "]\n",
    "\n",
    "forest = RandomForestClassifier()\n",
    "\n",
    "grid_search = GridSearchCV(forest, \n",
    "                           param_grid, \n",
    "                           cv = 5,\n",
    "                           return_train_score = True)\n",
    "\n",
    "grid_search.fit(X_train, y_train)\n",
    "\n",
    "grid_search.best_params_"
   ]
  },
  {
   "cell_type": "code",
   "execution_count": 83,
   "id": "ad44d5f2-f0d6-4c8e-96ad-242edc8f5f1c",
   "metadata": {
    "tags": []
   },
   "outputs": [
    {
     "name": "stdout",
     "output_type": "stream",
     "text": [
      "model score 0.947871416159861 (94.79%)\n"
     ]
    }
   ],
   "source": [
    "from sklearn.ensemble import RandomForestClassifier\n",
    "\n",
    "forest = RandomForestClassifier(n_estimators = 1000, \n",
    "                                bootstrap = False, \n",
    "                                max_features = 4)\n",
    "\n",
    "forest.fit(X_train, y_train)\n",
    "\n",
    "score = forest.score(X_test, y_test)\n",
    "\n",
    "print('model score', score, \"({0:.2%})\".format(fscore))"
   ]
  }
 ],
 "metadata": {
  "kernelspec": {
   "display_name": "Python 3 (ipykernel)",
   "language": "python",
   "name": "python3"
  },
  "language_info": {
   "codemirror_mode": {
    "name": "ipython",
    "version": 3
   },
   "file_extension": ".py",
   "mimetype": "text/x-python",
   "name": "python",
   "nbconvert_exporter": "python",
   "pygments_lexer": "ipython3",
   "version": "3.10.6"
  }
 },
 "nbformat": 4,
 "nbformat_minor": 5
}
